{
 "cells": [
  {
   "cell_type": "code",
   "execution_count": 1,
   "metadata": {},
   "outputs": [
    {
     "name": "stdout",
     "output_type": "stream",
     "text": [
      "Guess BIGGER\n",
      "Guess BIGGER\n",
      "Guess BIGGER\n",
      "Right! The number is  5  you tried 4 times\n"
     ]
    }
   ],
   "source": [
    "import random\n",
    "num1= random.randint(1, 10)\n",
    "enterednum=0\n",
    "guess=0\n",
    "while enterednum!=num1:\n",
    "    enterednum=int(input(\"enter a number between 1 and 10: \"))\n",
    "    if enterednum<num1:\n",
    "        print(\"Guess BIGGER\")\n",
    "    elif enterednum>num1:\n",
    "        print(\"Guess SMALLER\")\n",
    "    else:\n",
    "        print(\"Right! The number is \",num1, \" you tried\", guess+1, \"times\")\n",
    "    guess+= 1\n",
    "\n"
   ]
  }
 ],
 "metadata": {
  "kernelspec": {
   "display_name": "Python 3",
   "language": "python",
   "name": "python3"
  },
  "language_info": {
   "codemirror_mode": {
    "name": "ipython",
    "version": 3
   },
   "file_extension": ".py",
   "mimetype": "text/x-python",
   "name": "python",
   "nbconvert_exporter": "python",
   "pygments_lexer": "ipython3",
   "version": "3.12.6"
  }
 },
 "nbformat": 4,
 "nbformat_minor": 2
}
