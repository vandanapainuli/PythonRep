{
 "cells": [
  {
   "cell_type": "markdown",
   "id": "f1d3576c",
   "metadata": {},
   "source": [
    "# 🐼 Pandas Practice Notebook\n",
    "This notebook covers basic to intermediate Pandas functions commonly used in data analytics interviews."
   ]
  },
  {
   "cell_type": "markdown",
   "id": "26cee5c6",
   "metadata": {},
   "source": [
    "## 📥 Data Loading & Saving"
   ]
  },
  {
   "cell_type": "code",
   "execution_count": null,
   "id": "864fbeed",
   "metadata": {},
   "outputs": [],
   "source": [
    "import pandas as pd\n",
    "\n",
    "# Load CSV file\n",
    "df = pd.read_csv('sample.csv')  # Replace with actual file path\n",
    "\n",
    "# Save to CSV\n",
    "df.to_csv('output.csv', index=False)\n",
    "\n",
    "# Load Excel file\n",
    "df_excel = pd.read_excel('sample.xlsx')  # Replace with actual file path\n",
    "\n",
    "# Save to Excel\n",
    "df_excel.to_excel('output.xlsx', index=False)"
   ]
  },
  {
   "cell_type": "markdown",
   "id": "099787dd",
   "metadata": {},
   "source": [
    "## 🧱 DataFrame Creation"
   ]
  },
  {
   "cell_type": "code",
   "execution_count": null,
   "id": "1aa09fe7",
   "metadata": {},
   "outputs": [],
   "source": [
    "# Create DataFrame from dictionary\n",
    "data = {'Name': ['Alice', 'Bob', 'Charlie'], 'Age': [25, 30, 35]}\n",
    "df = pd.DataFrame(data)\n",
    "\n",
    "# Create Series\n",
    "s = pd.Series([10, 20, 30])"
   ]
  },
  {
   "cell_type": "markdown",
   "id": "56bbd8a2",
   "metadata": {},
   "source": [
    "## 🔍 Data Inspection"
   ]
  },
  {
   "cell_type": "code",
   "execution_count": null,
   "id": "57f29410",
   "metadata": {},
   "outputs": [],
   "source": [
    "df.head()\n",
    "df.tail()\n",
    "df.shape\n",
    "df.info()\n",
    "df.describe()\n",
    "df.columns\n",
    "df.index\n",
    "df.dtypes"
   ]
  },
  {
   "cell_type": "markdown",
   "id": "3296056a",
   "metadata": {},
   "source": [
    "## 🎯 Selection & Filtering"
   ]
  },
  {
   "cell_type": "code",
   "execution_count": null,
   "id": "20e9839b",
   "metadata": {},
   "outputs": [],
   "source": [
    "df['Name']\n",
    "df[['Name', 'Age']]\n",
    "df.loc[0]\n",
    "df.iloc[1]\n",
    "df[df['Age'] > 30]"
   ]
  },
  {
   "cell_type": "markdown",
   "id": "7b8eb586",
   "metadata": {},
   "source": [
    "## ❓ Missing Data Handling"
   ]
  },
  {
   "cell_type": "code",
   "execution_count": null,
   "id": "40b157b0",
   "metadata": {},
   "outputs": [],
   "source": [
    "df.isnull()\n",
    "df.notnull()\n",
    "df.dropna()\n",
    "df.fillna('Unknown')"
   ]
  },
  {
   "cell_type": "markdown",
   "id": "113d4301",
   "metadata": {},
   "source": [
    "## 🛠️ Data Manipulation"
   ]
  },
  {
   "cell_type": "code",
   "execution_count": null,
   "id": "571afd5c",
   "metadata": {},
   "outputs": [],
   "source": [
    "df.rename(columns={'Name': 'Full Name'})\n",
    "df.drop(columns=['Age'])\n",
    "df.sort_values(by='Age')\n",
    "df.reset_index(drop=True)\n",
    "df.set_index('Name')"
   ]
  },
  {
   "cell_type": "markdown",
   "id": "c8912a8a",
   "metadata": {},
   "source": [
    "## 📊 Aggregation & Grouping"
   ]
  },
  {
   "cell_type": "code",
   "execution_count": null,
   "id": "3c7789a6",
   "metadata": {},
   "outputs": [],
   "source": [
    "df.groupby('Name').mean()\n",
    "df.groupby('Name').agg({'Age': 'sum'})\n",
    "df.pivot_table(values='Age', index='Name', columns='Gender')"
   ]
  },
  {
   "cell_type": "markdown",
   "id": "71f80a44",
   "metadata": {},
   "source": [
    "## 🧮 Apply Functions"
   ]
  },
  {
   "cell_type": "code",
   "execution_count": null,
   "id": "1b4847bd",
   "metadata": {},
   "outputs": [],
   "source": [
    "df['Age'].apply(lambda x: x + 1)\n",
    "df['Name'].map(lambda x: x.upper())\n",
    "df.apply(lambda row: row['Age'] * 2, axis=1)"
   ]
  },
  {
   "cell_type": "markdown",
   "id": "faf03342",
   "metadata": {},
   "source": [
    "## 🔗 Merging & Joining"
   ]
  },
  {
   "cell_type": "code",
   "execution_count": null,
   "id": "dfaff5ff",
   "metadata": {},
   "outputs": [],
   "source": [
    "df1 = pd.DataFrame({'ID': [1, 2], 'Name': ['Alice', 'Bob']})\n",
    "df2 = pd.DataFrame({'ID': [1, 2], 'Age': [25, 30]})\n",
    "\n",
    "pd.merge(df1, df2, on='ID')\n",
    "pd.concat([df1, df2], axis=1)\n",
    "df1.join(df2.set_index('ID'), on='ID')"
   ]
  },
  {
   "cell_type": "markdown",
   "id": "1ecd246a",
   "metadata": {},
   "source": [
    "## 🔢 Value Counts & Duplicates"
   ]
  },
  {
   "cell_type": "code",
   "execution_count": null,
   "id": "f539570d",
   "metadata": {},
   "outputs": [],
   "source": [
    "df['Name'].value_counts()\n",
    "df.duplicated()\n",
    "df.drop_duplicates()"
   ]
  },
  {
   "cell_type": "markdown",
   "id": "9b75d1b4",
   "metadata": {},
   "source": [
    "## 📅 Datetime Handling"
   ]
  },
  {
   "cell_type": "code",
   "execution_count": null,
   "id": "aafbbda5",
   "metadata": {},
   "outputs": [],
   "source": [
    "df['date'] = pd.to_datetime(df['date'])\n",
    "df['date'].dt.year\n",
    "df['date'].dt.month\n",
    "df['date'].dt.day\n",
    "df['date'].dt.strftime('%Y-%m-%d')"
   ]
  }
 ],
 "metadata": {},
 "nbformat": 4,
 "nbformat_minor": 5
}
