{
 "cells": [
  {
   "cell_type": "markdown",
   "id": "36de7360",
   "metadata": {},
   "source": [
    "## Array Creation"
   ]
  },
  {
   "cell_type": "code",
   "execution_count": 3,
   "id": "e2908b0a",
   "metadata": {},
   "outputs": [
    {
     "name": "stdout",
     "output_type": "stream",
     "text": [
      "Array from list: [1 2 3]\n",
      "Zeros: [[0. 0. 0.]\n",
      " [0. 0. 0.]]\n",
      "Ones: [[1. 1. 1.]\n",
      " [1. 1. 1.]]\n"
     ]
    }
   ],
   "source": [
    "import numpy as np\n",
    "\n",
    "# Create arrays from lists\n",
    "a = np.array([1, 2, 3])\n",
    "print(\"Array from list:\", a)\n",
    "\n",
    "# Zeros and ones\n",
    "zeros = np.zeros((2, 3))\n",
    "ones = np.ones((2, 3))\n",
    "print(\"Zeros:\", zeros)\n",
    "print(\"Ones:\", ones)\n",
    "\n",
    "# Range and linspace\n"
   ]
  },
  {
   "cell_type": "code",
   "execution_count": 4,
   "id": "5d23f808",
   "metadata": {},
   "outputs": [
    {
     "name": "stdout",
     "output_type": "stream",
     "text": [
      "Arange: [0 2 4 6 8]\n",
      "Linspace: [0.   0.25 0.5  0.75 1.  ]\n"
     ]
    }
   ],
   "source": [
    "arange_array = np.arange(0, 10, 2)\n",
    "linspace_array = np.linspace(0, 1, 5)\n",
    "print(\"Arange:\", arange_array)\n",
    "print(\"Linspace:\", linspace_array)\n"
   ]
  },
  {
   "cell_type": "code",
   "execution_count": 7,
   "id": "30a1eb73",
   "metadata": {},
   "outputs": [
    {
     "name": "stdout",
     "output_type": "stream",
     "text": [
      "Identity matrix: [[1. 0. 0.]\n",
      " [0. 1. 0.]\n",
      " [0. 0. 1.]]\n",
      "Random rand: [[0.33365703 0.72412309]\n",
      " [0.62776206 0.75325753]]\n",
      "Random randn: [[ 0.7053375  -0.41017338]\n",
      " [ 0.70372614 -0.42693957]]\n"
     ]
    }
   ],
   "source": [
    "\n",
    "# Identity matrix\n",
    "identity = np.eye(3)\n",
    "print(\"Identity matrix:\", identity)\n",
    "\n",
    "# Random arrays\n",
    "rand_array = np.random.rand(2, 2)\n",
    "randn_array = np.random.randn(2, 2)\n",
    "print(\"Random rand:\", rand_array)\n",
    "print(\"Random randn:\", randn_array)\n"
   ]
  },
  {
   "cell_type": "markdown",
   "id": "2cb22fea",
   "metadata": {},
   "source": [
    "## Array Inspection"
   ]
  },
  {
   "cell_type": "code",
   "execution_count": 8,
   "id": "9f2f219c",
   "metadata": {},
   "outputs": [
    {
     "name": "stdout",
     "output_type": "stream",
     "text": [
      "Shape: (2, 3)\n",
      "Dimensions: 2\n",
      "Size: 6\n",
      "Data type: int64\n"
     ]
    }
   ],
   "source": [
    "a = np.array([[1, 2, 3], [4, 5, 6]])\n",
    "print(\"Shape:\", a.shape)\n",
    "print(\"Dimensions:\", a.ndim)\n",
    "print(\"Size:\", a.size)\n",
    "print(\"Data type:\", a.dtype)\n"
   ]
  },
  {
   "cell_type": "markdown",
   "id": "5c3cd55a",
   "metadata": {},
   "source": [
    "## Array Manipulation"
   ]
  },
  {
   "cell_type": "code",
   "execution_count": 11,
   "id": "0fdeaad3",
   "metadata": {},
   "outputs": [
    {
     "name": "stdout",
     "output_type": "stream",
     "text": [
      "Original array: [[0 1 2]\n",
      " [3 4 5]]\n",
      "Reshaped: [[0 1]\n",
      " [2 3]\n",
      " [4 5]]\n"
     ]
    }
   ],
   "source": [
    "a = np.arange(6).reshape((2, 3))\n",
    "print(\"Original array:\", a)\n",
    "\n",
    "# Reshape\n",
    "reshaped = np.reshape(a, (3, 2))\n",
    "print(\"Reshaped:\", reshaped)\n"
   ]
  },
  {
   "cell_type": "code",
   "execution_count": 10,
   "id": "ac0727cd",
   "metadata": {},
   "outputs": [
    {
     "name": "stdout",
     "output_type": "stream",
     "text": [
      "Flattened: [0 1 2 3 4 5]\n",
      "Transposed: [[0 3]\n",
      " [1 4]\n",
      " [2 5]]\n"
     ]
    }
   ],
   "source": [
    "\n",
    "# Ravel\n",
    "flattened = np.ravel(a)\n",
    "print(\"Flattened:\", flattened)\n",
    "\n",
    "# Transpose\n",
    "transposed = np.transpose(a)\n",
    "print(\"Transposed:\", transposed)\n"
   ]
  },
  {
   "cell_type": "code",
   "execution_count": 12,
   "id": "3cad914e",
   "metadata": {},
   "outputs": [
    {
     "name": "stdout",
     "output_type": "stream",
     "text": [
      "Concatenated: [[0 1 2]\n",
      " [3 4 5]\n",
      " [7 8 9]]\n"
     ]
    }
   ],
   "source": [
    "\n",
    "# Concatenate\n",
    "b = np.array([[7, 8, 9]])\n",
    "concatenated = np.concatenate((a, b), axis=0)\n",
    "print(\"Concatenated:\", concatenated)\n"
   ]
  },
  {
   "cell_type": "code",
   "execution_count": 15,
   "id": "488875b3",
   "metadata": {},
   "outputs": [
    {
     "ename": "ValueError",
     "evalue": "all the input array dimensions except for the concatenation axis must match exactly, but along dimension 0, the array at index 0 has size 2 and the array at index 1 has size 1",
     "output_type": "error",
     "traceback": [
      "\u001b[31m---------------------------------------------------------------------------\u001b[39m",
      "\u001b[31mValueError\u001b[39m                                Traceback (most recent call last)",
      "\u001b[36mCell\u001b[39m\u001b[36m \u001b[39m\u001b[32mIn[15]\u001b[39m\u001b[32m, line 3\u001b[39m\n\u001b[32m      1\u001b[39m \u001b[38;5;66;03m# Stack: \u001b[39;00m\n\u001b[32m      2\u001b[39m vstacked = np.vstack((a, b))\n\u001b[32m----> \u001b[39m\u001b[32m3\u001b[39m hstacked = \u001b[43mnp\u001b[49m\u001b[43m.\u001b[49m\u001b[43mhstack\u001b[49m\u001b[43m(\u001b[49m\u001b[43m(\u001b[49m\u001b[43ma\u001b[49m\u001b[43m,\u001b[49m\u001b[43m \u001b[49m\u001b[43mb\u001b[49m\u001b[43m)\u001b[49m\u001b[43m)\u001b[49m\n\u001b[32m      4\u001b[39m \u001b[38;5;28mprint\u001b[39m(\u001b[33m\"\u001b[39m\u001b[33mVstacked:\u001b[39m\u001b[33m\"\u001b[39m, vstacked)\n\u001b[32m      5\u001b[39m \u001b[38;5;28mprint\u001b[39m(\u001b[33m\"\u001b[39m\u001b[33mHstacked:\u001b[39m\u001b[33m\"\u001b[39m, hstacked)\n",
      "\u001b[36mFile \u001b[39m\u001b[32m~\\AppData\\Roaming\\Python\\Python312\\site-packages\\numpy\\_core\\shape_base.py:367\u001b[39m, in \u001b[36mhstack\u001b[39m\u001b[34m(tup, dtype, casting)\u001b[39m\n\u001b[32m    365\u001b[39m     \u001b[38;5;28;01mreturn\u001b[39;00m _nx.concatenate(arrs, \u001b[32m0\u001b[39m, dtype=dtype, casting=casting)\n\u001b[32m    366\u001b[39m \u001b[38;5;28;01melse\u001b[39;00m:\n\u001b[32m--> \u001b[39m\u001b[32m367\u001b[39m     \u001b[38;5;28;01mreturn\u001b[39;00m \u001b[43m_nx\u001b[49m\u001b[43m.\u001b[49m\u001b[43mconcatenate\u001b[49m\u001b[43m(\u001b[49m\u001b[43marrs\u001b[49m\u001b[43m,\u001b[49m\u001b[43m \u001b[49m\u001b[32;43m1\u001b[39;49m\u001b[43m,\u001b[49m\u001b[43m \u001b[49m\u001b[43mdtype\u001b[49m\u001b[43m=\u001b[49m\u001b[43mdtype\u001b[49m\u001b[43m,\u001b[49m\u001b[43m \u001b[49m\u001b[43mcasting\u001b[49m\u001b[43m=\u001b[49m\u001b[43mcasting\u001b[49m\u001b[43m)\u001b[49m\n",
      "\u001b[31mValueError\u001b[39m: all the input array dimensions except for the concatenation axis must match exactly, but along dimension 0, the array at index 0 has size 2 and the array at index 1 has size 1"
     ]
    }
   ],
   "source": [
    "\n",
    "# Stack: \n",
    "vstacked = np.vstack((a, b))\n",
    "hstacked = np.hstack((a, b.T))\n",
    "print(\"Vstacked:\", vstacked)\n",
    "print(\"Hstacked:\", hstacked)\n",
    "\n",
    "# Split\n",
    "split_arrays = np.split(a, 2)\n",
    "print(\"Split arrays:\", split_arrays)\n"
   ]
  },
  {
   "cell_type": "markdown",
   "id": "43f4cd14",
   "metadata": {},
   "source": [
    "## Indexing & Slicing"
   ]
  },
  {
   "cell_type": "code",
   "execution_count": 16,
   "id": "e837c68c",
   "metadata": {},
   "outputs": [
    {
     "name": "stdout",
     "output_type": "stream",
     "text": [
      "Element at index 2: 30\n",
      "Slice from index 1 to 4: [20 30 40]\n",
      "Elements greater than 25: [30 40 50]\n",
      "Elements at indices 0, 2, 4: [10 30 50]\n"
     ]
    }
   ],
   "source": [
    "a = np.array([10, 20, 30, 40, 50])\n",
    "print(\"Element at index 2:\", a[2])\n",
    "print(\"Slice from index 1 to 4:\", a[1:4])\n",
    "\n",
    "# Boolean indexing\n",
    "print(\"Elements greater than 25:\", a[a > 25])\n",
    "\n",
    "# Fancy indexing\n",
    "print(\"Elements at indices 0, 2, 4:\", a[[0, 2, 4]])\n"
   ]
  },
  {
   "cell_type": "markdown",
   "id": "e73eb05b",
   "metadata": {},
   "source": [
    "## Mathematical Operations"
   ]
  },
  {
   "cell_type": "code",
   "execution_count": 17,
   "id": "ba50b505",
   "metadata": {},
   "outputs": [
    {
     "name": "stdout",
     "output_type": "stream",
     "text": [
      "Add: [5 7 9]\n",
      "Subtract: [-3 -3 -3]\n",
      "Multiply: [ 4 10 18]\n",
      "Divide: [0.25 0.4  0.5 ]\n"
     ]
    }
   ],
   "source": [
    "a = np.array([1, 2, 3])\n",
    "b = np.array([4, 5, 6])\n",
    "\n",
    "print(\"Add:\", np.add(a, b))\n",
    "print(\"Subtract:\", np.subtract(a, b))\n",
    "print(\"Multiply:\", np.multiply(a, b))\n",
    "print(\"Divide:\", np.divide(a, b))\n"
   ]
  },
  {
   "cell_type": "code",
   "execution_count": 18,
   "id": "5ca4de97",
   "metadata": {},
   "outputs": [
    {
     "name": "stdout",
     "output_type": "stream",
     "text": [
      "Exponential: [ 2.71828183  7.3890561  20.08553692]\n",
      "Logarithm: [0.         0.69314718 1.09861229]\n",
      "Square root: [1.         1.41421356 1.73205081]\n"
     ]
    }
   ],
   "source": [
    "\n",
    "print(\"Exponential:\", np.exp(a))\n",
    "print(\"Logarithm:\", np.log(a))\n",
    "print(\"Square root:\", np.sqrt(a))\n"
   ]
  },
  {
   "cell_type": "code",
   "execution_count": 19,
   "id": "2a1fc023",
   "metadata": {},
   "outputs": [
    {
     "name": "stdout",
     "output_type": "stream",
     "text": [
      "Sum: 6\n",
      "Mean: 2.0\n",
      "Standard deviation: 0.816496580927726\n",
      "Variance: 0.6666666666666666\n",
      "Min: 1\n",
      "Max: 3\n",
      "Argmin: 0\n",
      "Argmax: 2\n"
     ]
    }
   ],
   "source": [
    "\n",
    "print(\"Sum:\", np.sum(a))\n",
    "print(\"Mean:\", np.mean(a))\n",
    "print(\"Standard deviation:\", np.std(a))\n",
    "print(\"Variance:\", np.var(a))\n",
    "\n",
    "print(\"Min:\", np.min(a))\n",
    "print(\"Max:\", np.max(a))\n",
    "print(\"Argmin:\", np.argmin(a))\n",
    "print(\"Argmax:\", np.argmax(a))\n"
   ]
  },
  {
   "cell_type": "markdown",
   "id": "4aa2f6c3",
   "metadata": {},
   "source": [
    "## Set Operations"
   ]
  },
  {
   "cell_type": "code",
   "execution_count": 20,
   "id": "757aac8f",
   "metadata": {},
   "outputs": [
    {
     "name": "stdout",
     "output_type": "stream",
     "text": [
      "Unique elements in a: [1 2 3 4]\n",
      "Intersection: [3 4]\n",
      "Union: [1 2 3 4 5 6]\n",
      "Set difference (a - b): [1 2]\n"
     ]
    }
   ],
   "source": [
    "a = np.array([1, 2, 3, 4])\n",
    "b = np.array([3, 4, 5, 6])\n",
    "\n",
    "print(\"Unique elements in a:\", np.unique(a))\n",
    "print(\"Intersection:\", np.intersect1d(a, b))\n",
    "print(\"Union:\", np.union1d(a, b))\n",
    "print(\"Set difference (a - b):\", np.setdiff1d(a, b))\n"
   ]
  },
  {
   "cell_type": "markdown",
   "id": "73639c10",
   "metadata": {},
   "source": [
    "## Sorting & Searching"
   ]
  },
  {
   "cell_type": "code",
   "execution_count": null,
   "id": "86e7c03c",
   "metadata": {},
   "outputs": [],
   "source": [
    "a = np.array([5, 2, 9, 1])\n",
    "\n",
    "print(\"Sorted array:\", np.sort(a))\n",
    "print(\"Indices that would sort:\", np.argsort(a))\n",
    "\n",
    "# Where condition\n",
    "print(\"Indices where a > 4:\", np.where(a > 4))\n"
   ]
  },
  {
   "cell_type": "markdown",
   "id": "7a7804bb",
   "metadata": {},
   "source": [
    "## Copying & Broadcasting"
   ]
  },
  {
   "cell_type": "code",
   "execution_count": null,
   "id": "67914582",
   "metadata": {},
   "outputs": [],
   "source": [
    "a = np.array([1, 2, 3])\n",
    "b = a.copy()\n",
    "b[0] = 100\n",
    "print(\"Original array:\", a)\n",
    "print(\"Copied array:\", b)\n",
    "\n",
    "# Broadcasting\n",
    "a = np.array([[1], [2], [3]])\n",
    "b = np.array([10, 20, 30])\n",
    "broadcasted = a + b\n",
    "print(\"Broadcasted result:\n",
    "\", broadcasted)\n"
   ]
  }
 ],
 "metadata": {
  "kernelspec": {
   "display_name": "Python 3",
   "language": "python",
   "name": "python3"
  },
  "language_info": {
   "codemirror_mode": {
    "name": "ipython",
    "version": 3
   },
   "file_extension": ".py",
   "mimetype": "text/x-python",
   "name": "python",
   "nbconvert_exporter": "python",
   "pygments_lexer": "ipython3",
   "version": "3.12.6"
  }
 },
 "nbformat": 4,
 "nbformat_minor": 5
}
